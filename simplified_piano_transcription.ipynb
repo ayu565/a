{
  "nbformat": 4,
  "nbformat_minor": 0,
  "metadata": {
    "colab": {
      "private_outputs": true,
      "provenance": [],
      "collapsed_sections": [
        "riHyJ_Pienxa"
      ],
      "include_colab_link": true
    },
    "kernelspec": {
      "name": "python3",
      "display_name": "Python 3"
    },
    "language_info": {
      "name": "python"
    },
    "gpuClass": "standard"
  },
  "cells": [
    {
      "cell_type": "markdown",
      "metadata": {
        "id": "view-in-github",
        "colab_type": "text"
      },
      "source": [
        "<a href=\"https://colab.research.google.com/github/ayu565/a/blob/main/simplified_piano_transcription.ipynb\" target=\"_parent\"><img src=\"https://colab.research.google.com/assets/colab-badge.svg\" alt=\"Open In Colab\"/></a>"
      ]
    },
    {
      "cell_type": "markdown",
      "source": [
        "# はじめに\n",
        "・まずは、Ⅰを実行してください。  \n",
        "・次に、採譜形式に合わせて、Ⅱ~Ⅳから選んで実行してください。  \n",
        "・カーソルを合わせ、再生マークをクリックすると、実行できます。  "
      ],
      "metadata": {
        "id": "7gc2YjbqO3IX"
      }
    },
    {
      "cell_type": "markdown",
      "source": [
        "- - -"
      ],
      "metadata": {
        "id": "zc42RpI3RCyq"
      }
    },
    {
      "cell_type": "markdown",
      "metadata": {
        "id": "riHyJ_Pienxa"
      },
      "source": [
        "# Ⅰ 環境設定(5つのセルを非表示にしたまま、まとめて実行してください)\n",
        "・起動後、1度だけ実行してください。(2度以上実行しても問題はありません。)  \n",
        "・非表示を解除して1つずつ実行しても良いですが、不便だと思います。"
      ]
    },
    {
      "cell_type": "code",
      "metadata": {
        "id": "u4sEqFa7e6BQ"
      },
      "source": [
        "!apt install ffmpeg wget"
      ],
      "execution_count": null,
      "outputs": []
    },
    {
      "cell_type": "code",
      "source": [
        "pip install librosa==0.9.2"
      ],
      "metadata": {
        "id": "JguL_F-OqVTa"
      },
      "execution_count": null,
      "outputs": []
    },
    {
      "cell_type": "code",
      "metadata": {
        "id": "DovsrAaQe8Ab"
      },
      "source": [
        "pip install piano_transcription_inference"
      ],
      "execution_count": null,
      "outputs": []
    },
    {
      "cell_type": "code",
      "metadata": {
        "id": "2SeO9kwme8_s"
      },
      "source": [
        "from IPython.display import Audio"
      ],
      "execution_count": null,
      "outputs": []
    },
    {
      "cell_type": "code",
      "metadata": {
        "id": "pNGJtshSiw5u"
      },
      "source": [
        "from piano_transcription_inference import PianoTranscription, sample_rate, load_audio\n",
        "\n",
        "def transcribe(audio_path, output_midi_path):\n",
        "    # Load audio\n",
        "    audio, _ = load_audio(audio_path, sr=sample_rate, mono=True)\n",
        "\n",
        "    # Transcriptor\n",
        "    transcriptor = PianoTranscription(device='cuda', checkpoint_path=None)\n",
        "\n",
        "    # Transcribe and write out to MIDI file\n",
        "    transcriptor.transcribe(audio, output_midi_path)"
      ],
      "execution_count": null,
      "outputs": []
    },
    {
      "cell_type": "code",
      "source": [
        "import glob, os, shutil, zipfile"
      ],
      "metadata": {
        "id": "6rcD0JqZv4SO"
      },
      "execution_count": null,
      "outputs": []
    },
    {
      "cell_type": "markdown",
      "source": [
        "- - -"
      ],
      "metadata": {
        "id": "m7w5g8QpRF64"
      }
    },
    {
      "cell_type": "markdown",
      "source": [
        "# Ⅱ 1つだけ採譜する場合"
      ],
      "metadata": {
        "id": "8LBrBQGAmOFX"
      }
    },
    {
      "cell_type": "code",
      "source": [
        "#@title 動画のリンクを入力 { vertical-output: true }\n",
        "#@markdown Youtube,ニコニコ,Twitch,Vimeo,Twitter,Instagramに対応\n",
        "\n",
        "# 既存ファイルを削除\n",
        "music_list = glob.glob(\"*mp3\")\n",
        "midi_list = glob.glob(\"*mid\")\n",
        "for file in music_list:\n",
        "    os.remove(file)\n",
        "for file in midi_list:\n",
        "    os.remove(file)\n",
        "if os.path.exists(\"/content/a.zip\"):\n",
        "  os.remove(\"/content/a.zip\")\n",
        "if os.path.exists(\"/content/midis\"):\n",
        "  shutil.rmtree(\"/content/midis\")\n",
        "\n",
        "# 音源のダウンロード\n",
        "url = \"https://www.youtube.com/live/XXFF1zyhD4k?feature=share\" #@param {type:\"string\"}\n",
        "print(\"音源をダウンロード中\")\n",
        "!pip install yt-dlp\n",
        "!yt-dlp \"$url\" -o \"a.mp3\" -x --audio-format mp3 --audio-quality 0\n",
        "print(\"音源のダウンロードが完了\")\n",
        "\n",
        "# 音源の採譜\n",
        "print(\"音源を採譜中\")\n",
        "transcribe(\"a.mp3\", \"a.mid\")\n",
        "print(\"音源の採譜が完了\")\n",
        "\n",
        "# midiのダウンロード\n",
        "print(\"midiのダウンロード中\")\n",
        "from google.colab import files\n",
        "files.download(\"a.mid\")\n",
        "print(\"midiのダウンロードが完了\")\n",
        "print(\"以上で処理を終了します\")"
      ],
      "metadata": {
        "id": "Mpm3D0M8mlQj"
      },
      "execution_count": null,
      "outputs": []
    },
    {
      "cell_type": "markdown",
      "source": [],
      "metadata": {
        "id": "WdPyFr-xhJSJ"
      }
    },
    {
      "cell_type": "code",
      "source": [],
      "metadata": {
        "id": "HO15Nne7hIlw"
      },
      "execution_count": null,
      "outputs": []
    },
    {
      "cell_type": "code",
      "source": [
        "#@title midiのダウンロード { vertical-output: true }\n",
        "#@markdown 複数回ダウンロードしたい場合に実行してください\n",
        "from google.colab import files\n",
        "files.download(\"a.mid\")"
      ],
      "metadata": {
        "id": "EAIRSFMAmqQS"
      },
      "execution_count": null,
      "outputs": []
    },
    {
      "cell_type": "markdown",
      "source": [
        "- - -"
      ],
      "metadata": {
        "id": "FgBVFMvcntnE"
      }
    },
    {
      "cell_type": "markdown",
      "source": [
        "# Ⅲ 再生リストごと採譜する場合"
      ],
      "metadata": {
        "id": "FJPZa0-wmVF_"
      }
    },
    {
      "cell_type": "code",
      "source": [
        "#@title 再生リストのリンクを入力 { vertical-output: true }\n",
        "#@markdown Youtubeに対応\n",
        "\n",
        "# 既存ファイルを削除\n",
        "music_list = glob.glob(\"*mp3\")\n",
        "midi_list = glob.glob(\"*mid\")\n",
        "for file in music_list:\n",
        "    os.remove(file)\n",
        "for file in midi_list:\n",
        "    os.remove(file)\n",
        "if os.path.exists(\"/content/a.zip\"):\n",
        "  os.remove(\"/content/a.zip\")\n",
        "if os.path.exists(\"/content/midis\"):\n",
        "  shutil.rmtree(\"/content/midis\")\n",
        "\n",
        "# 音源のダウンロード\n",
        "url = \"\" #@param {type:\"string\"}\n",
        "print(\"音源をダウンロード中\")\n",
        "!pip install yt-dlp\n",
        "!yt-dlp \"$url\" -x --audio-format mp3 --audio-quality 0\n",
        "rename_musics = glob.glob(\"*.mp3\")\n",
        "i = 1\n",
        "for old_name in rename_musics:\n",
        "    os.rename(old_name, \"a\" + \"{0:05d}\".format(i) + \".mp3\")\n",
        "    i += 1\n",
        "print(\"音源のダウンロードが完了\")\n",
        "\n",
        "# 音源の採譜\n",
        "print(\"音源を採譜中\")\n",
        "os.mkdir(\"midis\")\n",
        "trans_musics = glob.glob(\"*.mp3\")\n",
        "i = 1\n",
        "for trans in trans_musics:\n",
        "    midi_name = \"a\" + \"{0:05d}\".format(i) + \".mid\"\n",
        "    transcribe(\"a\" + \"{0:05d}\".format(i) + \".mp3\", midi_name)\n",
        "    shutil.move(midi_name, \"midis\")\n",
        "    i += 1\n",
        "print(\"音源の採譜が完了\")\n",
        "\n",
        "# midiの圧縮\n",
        "print(\"midiを圧縮中\")\n",
        "shutil.make_archive(\"a\", \"zip\", root_dir=\"midis\")\n",
        "print(\"midiの圧縮が完了\")\n",
        "\n",
        "# midiのダウンロード\n",
        "print(\"midiのダウンロード中\")\n",
        "from google.colab import files\n",
        "files.download(\"a.zip\")\n",
        "print(\"midiのダウンロードが完了\")\n",
        "print(\"以上で処理を終了します\")"
      ],
      "metadata": {
        "id": "4SQ89Z33nddo",
        "cellView": "form"
      },
      "execution_count": null,
      "outputs": []
    },
    {
      "cell_type": "code",
      "source": [
        "#@title midiのダウンロード { vertical-output: true }\n",
        "#@markdown 複数回ダウンロードしたい場合に実行してください\n",
        "from google.colab import files\n",
        "files.download(\"a.zip\")"
      ],
      "metadata": {
        "id": "6tzzPYjou0wR",
        "cellView": "form"
      },
      "execution_count": null,
      "outputs": []
    },
    {
      "cell_type": "markdown",
      "source": [
        "- - -"
      ],
      "metadata": {
        "id": "bQrLxxcZvEge"
      }
    },
    {
      "cell_type": "markdown",
      "source": [
        "# Ⅳ 自前音源を採譜する場合"
      ],
      "metadata": {
        "id": "i0fiOxAuvRvr"
      }
    },
    {
      "cell_type": "code",
      "source": [
        "#@title 音源のリンクを入力 { vertical-output: true }\n",
        "\n",
        "# 既存ファイルを削除\n",
        "music_list = glob.glob(\"*mp3\")\n",
        "midi_list = glob.glob(\"*mid\")\n",
        "for file in music_list:\n",
        "    os.remove(file)\n",
        "for file in midi_list:\n",
        "    os.remove(file)\n",
        "if os.path.exists(\"/content/a.zip\"):\n",
        "  os.remove(\"/content/a.zip\")\n",
        "if os.path.exists(\"/content/midis\"):\n",
        "  shutil.rmtree(\"/content/midis\")\n",
        "\n",
        "# 音源のダウンロード\n",
        "url = \"\" #@param {type:\"string\"}\n",
        "print(\"音源をダウンロード中\")\n",
        "!wget -O a.mp3 \"$url\"\n",
        "print(\"音源のダウンロードが完了\")\n",
        "\n",
        "# 音源の採譜\n",
        "print(\"音源を採譜中\")\n",
        "transcribe(\"a.mp3\", \"a.mid\")\n",
        "print(\"音源の採譜が完了\")\n",
        "\n",
        "# midiのダウンロード\n",
        "print(\"midiのダウンロード中\")\n",
        "from google.colab import files\n",
        "files.download(\"a.mid\")\n",
        "print(\"midiのダウンロードが完了\")\n",
        "print(\"以上で処理を終了します\")"
      ],
      "metadata": {
        "id": "JkQMttkqvP0a",
        "cellView": "form"
      },
      "execution_count": null,
      "outputs": []
    },
    {
      "cell_type": "code",
      "source": [
        "#@title midiのダウンロード { vertical-output: true }\n",
        "#@markdown 複数回ダウンロードしたい場合に実行してください\n",
        "from google.colab import files\n",
        "files.download(\"a.mid\")"
      ],
      "metadata": {
        "id": "wnkCUyTHxFKD",
        "cellView": "form"
      },
      "execution_count": null,
      "outputs": []
    }
  ]
}